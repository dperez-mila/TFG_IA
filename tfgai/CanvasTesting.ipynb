{
 "cells": [
  {
   "cell_type": "markdown",
   "metadata": {},
   "source": [
    "**GENERADOR DE FEEDBACK AMB IA GENERATIVA**"
   ]
  },
  {
   "cell_type": "code",
   "execution_count": 1,
   "metadata": {},
   "outputs": [],
   "source": [
    "from src.core import OPENAI_KEY, CANVAS_BASE_URL, CANVAS_TOKEN, DB_FILEPATH\n",
    "from src.controllers import FeedbackController\n",
    "from src.services import ServiceManager, OpenAIService, CanvasService, SQLite3Service"
   ]
  },
  {
   "cell_type": "code",
   "execution_count": 2,
   "metadata": {},
   "outputs": [],
   "source": [
    "openai_service = OpenAIService(OPENAI_KEY, \"gpt-3.5-turbo\")\n",
    "canvas_service = CanvasService(CANVAS_BASE_URL, CANVAS_TOKEN)\n",
    "sqlite_service = SQLite3Service(DB_FILEPATH)\n",
    "\n",
    "service_manager = ServiceManager(openai_service, canvas_service, sqlite_service)\n",
    "feedback_controller = FeedbackController(service_manager)\n",
    "\n",
    "course_id = \"37205\"\n",
    "assignment_id = \"434714\"\n",
    "user_id = \"300516\""
   ]
  },
  {
   "cell_type": "code",
   "execution_count": 3,
   "metadata": {},
   "outputs": [],
   "source": [
    "data = feedback_controller.data\n",
    "\n",
    "course = next((course for course in data if course.id == course_id), None)\n",
    "assignment = next((assignment for assignment in course.assignments if assignment.id == assignment_id), None)\n",
    "rubric = assignment.rubric\n",
    "submission = next((submission for submission in assignment.submissions if submission.user_id == user_id), None)\n",
    "assessments = submission.assessments\n",
    "attachment_content = feedback_controller.get_attachment_content(submission.attachment, [\"Sara Amzieb\"])\n",
    "\n",
    "data_content = {\n",
    "    \"course\": course,\n",
    "    \"assignment\": assignment,\n",
    "    \"rubric\": rubric,\n",
    "    \"submission\": submission,\n",
    "    \"assessments\": assessments,\n",
    "    \"attachment_content\": attachment_content\n",
    "} "
   ]
  },
  {
   "cell_type": "code",
   "execution_count": 4,
   "metadata": {},
   "outputs": [],
   "source": [
    "feedback_controller.generate_prompt(**data_content)"
   ]
  },
  {
   "cell_type": "code",
   "execution_count": 5,
   "metadata": {},
   "outputs": [],
   "source": [
    "feedback_controller.generate_response()"
   ]
  }
 ],
 "metadata": {
  "kernelspec": {
   "display_name": "TFGIAEnv",
   "language": "python",
   "name": "python3"
  },
  "language_info": {
   "codemirror_mode": {
    "name": "ipython",
    "version": 3
   },
   "file_extension": ".py",
   "mimetype": "text/x-python",
   "name": "python",
   "nbconvert_exporter": "python",
   "pygments_lexer": "ipython3",
   "version": "3.11.4"
  }
 },
 "nbformat": 4,
 "nbformat_minor": 2
}
