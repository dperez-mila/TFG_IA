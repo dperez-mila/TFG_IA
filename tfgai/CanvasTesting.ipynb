{
 "cells": [
  {
   "cell_type": "markdown",
   "metadata": {},
   "source": [
    "**GENERADOR DE FEEDBACK AMB IA GENERATIVA**"
   ]
  },
  {
   "cell_type": "code",
   "execution_count": 1,
   "metadata": {},
   "outputs": [],
   "source": [
    "from src.core import OPENAI_KEY, CANVAS_BASE_URL, CANVAS_TOKEN, DB_FILEPATH\n",
    "from src.controllers import FeedbackController\n",
    "from src.services import ServiceManager, OpenAIService, CanvasService, SQLite3Service"
   ]
  },
  {
   "cell_type": "code",
   "execution_count": 2,
   "metadata": {},
   "outputs": [],
   "source": [
    "openai_service = OpenAIService(OPENAI_KEY, \"gpt-4-turbo\")\n",
    "canvas_service = CanvasService(CANVAS_BASE_URL, CANVAS_TOKEN)\n",
    "sqlite_service = SQLite3Service(DB_FILEPATH)\n",
    "\n",
    "service_manager = ServiceManager(openai_service, canvas_service, sqlite_service)\n",
    "feedback_controller = FeedbackController(service_manager)\n",
    "\n",
    "course_id = \"37205\"\n",
    "assignment_id_v1 = \"434714\"\n",
    "assignment_id_v2 = \"434722\"\n",
    "user_id = \"300516\""
   ]
  },
  {
   "cell_type": "code",
   "execution_count": 3,
   "metadata": {},
   "outputs": [],
   "source": [
    "#feedback_controller.add_data(course_id)"
   ]
  },
  {
   "cell_type": "code",
   "execution_count": 4,
   "metadata": {},
   "outputs": [
    {
     "name": "stderr",
     "output_type": "stream",
     "text": [
      "2024-06-10 19:31:27.181 Python[73023:4026756] WARNING: Secure coding is not enabled for restorable state! Enable secure coding by implementing NSApplicationDelegate.applicationSupportsSecureRestorableState: and returning YES.\n"
     ]
    }
   ],
   "source": [
    "assignment_statement = feedback_controller.get_external_file_content()"
   ]
  },
  {
   "cell_type": "code",
   "execution_count": 5,
   "metadata": {},
   "outputs": [],
   "source": [
    "data = feedback_controller.data\n",
    "\n",
    "course = next((course for course in data if course.id == course_id), None)\n",
    "assignment = next((assignment for assignment in course.assignments if assignment.id == assignment_id_v2), None)\n",
    "rubric = assignment.rubric\n",
    "submission = next((submission for submission in assignment.submissions if submission.user_id == user_id), None)\n",
    "assessments = submission.assessments\n",
    "attachment_content = feedback_controller.get_attachment_content(submission.attachment, [\"\"])\n",
    "\n",
    "data_content = {\n",
    "    \"course\": course,\n",
    "    \"assignment\": assignment,\n",
    "    \"rubric\": rubric,\n",
    "    \"submission\": submission,\n",
    "    \"assessments\": assessments,\n",
    "    \"attachment_content\": attachment_content,\n",
    "    \"assignment_statement\": assignment_statement\n",
    "} "
   ]
  },
  {
   "cell_type": "code",
   "execution_count": 6,
   "metadata": {},
   "outputs": [],
   "source": [
    "feedback_controller.clear_prompt(['user'])"
   ]
  },
  {
   "cell_type": "code",
   "execution_count": 7,
   "metadata": {},
   "outputs": [],
   "source": [
    "feedback_controller.generate_prompt(**data_content)"
   ]
  },
  {
   "cell_type": "code",
   "execution_count": 9,
   "metadata": {},
   "outputs": [],
   "source": [
    "feedback_controller.generate_response()"
   ]
  }
 ],
 "metadata": {
  "kernelspec": {
   "display_name": "TFGIAEnv",
   "language": "python",
   "name": "python3"
  },
  "language_info": {
   "codemirror_mode": {
    "name": "ipython",
    "version": 3
   },
   "file_extension": ".py",
   "mimetype": "text/x-python",
   "name": "python",
   "nbconvert_exporter": "python",
   "pygments_lexer": "ipython3",
   "version": "3.11.4"
  }
 },
 "nbformat": 4,
 "nbformat_minor": 2
}
